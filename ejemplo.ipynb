{
 "cells": [
  {
   "cell_type": "code",
   "execution_count": null,
   "id": "857cafbe",
   "metadata": {},
   "outputs": [],
   "source": [
    "from filter import filtro\n"
   ]
  },
  {
   "cell_type": "code",
   "execution_count": null,
   "id": "8eaab125",
   "metadata": {},
   "outputs": [],
   "source": [
    "#Inputs\n",
    "archivo = 'catalogo.csv'\n",
    "sep= ';'\n",
    "calcular_Mc = \"No\"\n",
    "Mc= 2.9\n",
    "err_prof=10\n",
    "err_h=10\n",
    "max_prof=60\n",
    "margen_slab= 13\n",
    "margen_moho=0\n",
    "output='corticales.csv'\n",
    "latmin = -46\n",
    "latmax = -15\n",
    "lonmin = -80\n",
    "lonmax = -60"
   ]
  },
  {
   "cell_type": "code",
   "execution_count": null,
   "id": "5e6504b1",
   "metadata": {},
   "outputs": [],
   "source": [
    "filtro(archivo, sep, calcular_Mc, Mc,err_prof,err_h,margen_slab,margen_moho,output,latmin,latmax,lonmin,lonmax)"
   ]
  },
  {
   "cell_type": "code",
   "execution_count": null,
   "id": "c7ad15e5",
   "metadata": {},
   "outputs": [],
   "source": [
    "from squaregrid import squaregrid"
   ]
  },
  {
   "cell_type": "code",
   "execution_count": null,
   "id": "4a4b4eb8",
   "metadata": {},
   "outputs": [],
   "source": [
    "#Inputs\n",
    "corticales = 'corticales.csv'\n",
    "crs=\"EPSG:4326\" \n",
    "tamaño_celda=0.4\n",
    "traslape= 1.2\n",
    "D= 0.05\n",
    "k_min= 15 \n",
    "guardar_shp = \"No\"  \n",
    "shp= \"shapefile.shp \"\n"
   ]
  },
  {
   "cell_type": "code",
   "execution_count": null,
   "id": "29db55ed",
   "metadata": {},
   "outputs": [],
   "source": [
    "squaregrid(crs,corticales, tamaño_celda, traslape, D,k_min, guardar_shp,shp)"
   ]
  },
  {
   "cell_type": "code",
   "execution_count": null,
   "id": "732ac2ba",
   "metadata": {},
   "outputs": [],
   "source": [
    "from circlegrid import circlegrid"
   ]
  },
  {
   "cell_type": "code",
   "execution_count": null,
   "id": "d19326ce",
   "metadata": {},
   "outputs": [],
   "source": [
    "#Inputs\n",
    "crs =\"EPSG:4326\"\n",
    "corticales = 'corticales.csv'\n",
    "espaciamiento=0.5 \n",
    "k=30       \n",
    "r_max=1\n",
    "r_min=0.3\n",
    "D=0.05     \n",
    "guardar_shp = \"No\"  \n",
    "shp= \"shapefile.shp\""
   ]
  },
  {
   "cell_type": "code",
   "execution_count": null,
   "id": "bcf43ac4",
   "metadata": {},
   "outputs": [],
   "source": [
    "circlegrid(crs,corticales,espaciamiento,k,r_max,r_min,D,guardar_shp,shp)"
   ]
  },
  {
   "cell_type": "code",
   "execution_count": null,
   "id": "2d3273ac",
   "metadata": {},
   "outputs": [],
   "source": []
  }
 ],
 "metadata": {
  "kernelspec": {
   "display_name": "Python 3 (ipykernel)",
   "language": "python",
   "name": "python3"
  },
  "language_info": {
   "codemirror_mode": {
    "name": "ipython",
    "version": 3
   },
   "file_extension": ".py",
   "mimetype": "text/x-python",
   "name": "python",
   "nbconvert_exporter": "python",
   "pygments_lexer": "ipython3",
   "version": "3.9.12"
  },
  "toc": {
   "base_numbering": 1,
   "nav_menu": {},
   "number_sections": true,
   "sideBar": true,
   "skip_h1_title": false,
   "title_cell": "Table of Contents",
   "title_sidebar": "Contents",
   "toc_cell": false,
   "toc_position": {},
   "toc_section_display": true,
   "toc_window_display": false
  }
 },
 "nbformat": 4,
 "nbformat_minor": 5
}
